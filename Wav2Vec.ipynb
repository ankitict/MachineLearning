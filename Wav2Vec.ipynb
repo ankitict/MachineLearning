{
 "cells": [
  {
   "cell_type": "markdown",
   "id": "11d52db1",
   "metadata": {},
   "source": [
    "## Wav2Vec\n",
    "\n",
    "Wav2Vec 2.0, which has the potential to solve audio-related Natural Language Processing (NLP) tasks."
   ]
  },
  {
   "cell_type": "code",
   "execution_count": null,
   "id": "88c87b07",
   "metadata": {},
   "outputs": [],
   "source": [
    "!pip install torch"
   ]
  },
  {
   "cell_type": "markdown",
   "id": "41d5bafb",
   "metadata": {},
   "source": [
    "### Convert Audio file to .wav file format"
   ]
  },
  {
   "cell_type": "code",
   "execution_count": 1,
   "id": "5f0c9ba2",
   "metadata": {},
   "outputs": [],
   "source": [
    "import sys\n",
    "sys.path.append('/usr/local/Cellar/ffmpeg')"
   ]
  },
  {
   "cell_type": "code",
   "execution_count": 2,
   "id": "31b4b592",
   "metadata": {},
   "outputs": [],
   "source": [
    "from pydub import AudioSegment"
   ]
  },
  {
   "cell_type": "code",
   "execution_count": 3,
   "id": "eb2fafde",
   "metadata": {},
   "outputs": [
    {
     "data": {
      "text/plain": [
       "<_io.BufferedRandom name='speech_Converted.wav'>"
      ]
     },
     "execution_count": 3,
     "metadata": {},
     "output_type": "execute_result"
    }
   ],
   "source": [
    "mp3_audio = AudioSegment.from_file(\"speech.mp3\", format=\"mp3\")\n",
    "mp3_audio.export(\"speech_Converted.wav\", format=\"wav\")"
   ]
  },
  {
   "cell_type": "code",
   "execution_count": 4,
   "id": "39369fa2",
   "metadata": {},
   "outputs": [
    {
     "name": "stdout",
     "output_type": "stream",
     "text": [
      "2.261433333333333\n"
     ]
    }
   ],
   "source": [
    "mp3_audio = AudioSegment.from_file(r\"speech_Converted.wav\", format=\"wav\")\n",
    "print(len(mp3_audio)/(1000*60))\n",
    "# 12 Minutes audio breaks into 3 minutes 4 audio files (slicingis done by milliseconds)\n",
    "\n",
    "counter_audio = 180\n",
    "split_audio = [mp3_audio[:180*1000]]\n",
    "for i in range(4):\n",
    "    split_audio.append(mp3_audio[counter_audio*1000:(counter_audio+180)*1000])\n",
    "    counter_audio += 180\n",
    "\n",
    "count = 0\n",
    "# # lets save it!\n",
    "for count, audio_object in enumerate(split_audio):\n",
    "    count += 1\n",
    "    with open(f\"{count}_audi_file.wav\", 'wb') as out_f:\n",
    "        audio_object.export(out_f, format='wav')"
   ]
  },
  {
   "cell_type": "markdown",
   "id": "b25e34d5",
   "metadata": {},
   "source": [
    "## Predict Text from Audio\n",
    "\n",
    "Wav2vec 2.0 model to get the text from audio. we can achieve this by looping the audio files that earlier i have converted into smaller audio files.\n",
    "\n",
    "In each loop, predict the text from audio and store it into the collection_of_text variable. At last, add all the text in the collection_of_text variable and store it in the final_complete_speech variable."
   ]
  },
  {
   "cell_type": "code",
   "execution_count": 5,
   "id": "75de2470",
   "metadata": {},
   "outputs": [
    {
     "name": "stderr",
     "output_type": "stream",
     "text": [
      "The tokenizer class you load from this checkpoint is not the same type as the class this function is called from. It may result in unexpected tokenization. \n",
      "The tokenizer class you load from this checkpoint is 'Wav2Vec2CTCTokenizer'. \n",
      "The class this function is called from is 'Wav2Vec2Tokenizer'.\n",
      "/Users/ankit/opt/anaconda3/envs/wav_vec/lib/python3.9/site-packages/transformers/models/wav2vec2/tokenization_wav2vec2.py:746: FutureWarning: The class `Wav2Vec2Tokenizer` is deprecated and will be removed in version 5 of Transformers. Please use `Wav2Vec2Processor` or `Wav2Vec2CTCTokenizer` instead.\n",
      "  warnings.warn(\n",
      "Some weights of Wav2Vec2ForCTC were not initialized from the model checkpoint at facebook/wav2vec2-base-960h and are newly initialized: ['wav2vec2.masked_spec_embed']\n",
      "You should probably TRAIN this model on a down-stream task to be able to use it for predictions and inference.\n"
     ]
    }
   ],
   "source": [
    "import librosa\n",
    "import torch\n",
    "from transformers import Wav2Vec2ForCTC, Wav2Vec2Tokenizer\n",
    "\n",
    "# load model and tokenizer\n",
    "tokenizer = Wav2Vec2Tokenizer.from_pretrained(\"facebook/wav2vec2-base-960h\")\n",
    "model = Wav2Vec2ForCTC.from_pretrained(\"facebook/wav2vec2-base-960h\")\n",
    "\n",
    "# The base model pretrained and fine-tuned on 960 hours of Librispeech on 16kHz sampled speech audio.\n",
    "# When using the model make sure that your speech input is also sampled at 16Khz."
   ]
  },
  {
   "cell_type": "code",
   "execution_count": 6,
   "id": "b7f3d0f8",
   "metadata": {},
   "outputs": [
    {
     "name": "stdout",
     "output_type": "stream",
     "text": [
      "THE DAY OF THE SPEECH I COULDN'T EAT ALL DAY I WAS SO NERVOUS FOR HIM I WEN IT IT TO GO JUST PERFECTLY HE STARTS OFF AND I GET O TELL YOU IAM SWEAT AND I FEEL LIKE I'M IN A SANA I STAND HERE KNOWING THAT MY STORY IS PART OF THE LARGER AMERICAN STORY THAT I OWE ADEBT TO ALL OF THOSE WHO CAME BEFORE ME AND THAT NO OTHER COUNTRY ON EARTH IS MY STORY EVEN POSIBLIPEEPLE GET THIN TO ITAND SLOWLY BUT SURELY GOES FROM GOOD TO GREAT IT IS TAT UNDOMENTAL BELIEF I AM MY ROTHER'S KEEPER I AM MY THI TERS KEEPER THAT MAKES THIS OT REWORK AND THEN I START TO GET THIS FEELING OF RELIEF THAT HE'S DOING A GOOD JOB AND THEN WHEN HE JUST HIT A HOME RUN WITH IT TO NIGHT THERE IS NOT A LIBERAL AMERICA AND A CONSERVATIVE AMERICA THERE IS THE UNITED STATES OF AMERICA A A E MERI A AN A MY O MERIO A OINAL MERICO AT AT E OMERI O TA E I O FATE A AMERIC I S IN A BOY SOME DAY HE COULD BE PRESENT UNITED STATES HERE WE ARE TO DAT KOPHE THERE IS THIS HUGE AMOUNT OF HOPE THAT HE BRINGS TO THIS COUNTRY TO THE POLITICAL SYSTEM THAT IS INFECTIOUS AND WE CAUGHT IT THE WHOPE OF THE FINNY CAVE WIT E BUNNY NAME WHO BELIEVE THAT AMER  TE A RA TO O AN E TAITE A T TE O TI O AN E TAITE A O TIR E FA BE OTATIDYE A PO WO CONTINUALLY RISES TO THE OCCASION PEOPLE FEEL THAT WHEND HI DONE MHAT OF HIS TOLKIN OF FIFTEEN PEOPLE OR IF HES TALKING O SENEME TWO THOUSAND THEY ALL GET THEE FEELING THAT HE'S TALKING TO THEM\n"
     ]
    }
   ],
   "source": [
    "import numpy as np\n",
    "# load any audio file of your choice\n",
    "collection_of_text = []\n",
    "for i in range(1):\n",
    "\n",
    "    speech, rate = librosa.load(f\"{i+1}_audi_file.wav\", sr=16000)\n",
    "\n",
    "    input_values = tokenizer(speech, return_tensors='pt').input_values\n",
    "    # Store logits (non-normalized predictions)\n",
    "    with torch.no_grad():\n",
    "        logits = model(input_values).logits\n",
    "\n",
    "    # Store predicted id's\n",
    "    predicted_ids = torch.argmax(logits, dim=-1)\n",
    "    # decode the audio to generate text\n",
    "    # Passing the prediction to the tokenzer decode to get the transcription\n",
    "    transcription = tokenizer.batch_decode(predicted_ids)[0]\n",
    "    # transcriptions = tokenizer.decode(predicted_ids[0])\n",
    "    print(transcription)\n",
    "    collection_of_text.append(transcription)"
   ]
  },
  {
   "cell_type": "code",
   "execution_count": 7,
   "id": "85a96c97",
   "metadata": {},
   "outputs": [
    {
     "name": "stdout",
     "output_type": "stream",
     "text": [
      "[\"THE DAY OF THE SPEECH I COULDN'T EAT ALL DAY I WAS SO NERVOUS FOR HIM I WEN IT IT TO GO JUST PERFECTLY HE STARTS OFF AND I GET O TELL YOU IAM SWEAT AND I FEEL LIKE I'M IN A SANA I STAND HERE KNOWING THAT MY STORY IS PART OF THE LARGER AMERICAN STORY THAT I OWE ADEBT TO ALL OF THOSE WHO CAME BEFORE ME AND THAT NO OTHER COUNTRY ON EARTH IS MY STORY EVEN POSIBLIPEEPLE GET THIN TO ITAND SLOWLY BUT SURELY GOES FROM GOOD TO GREAT IT IS TAT UNDOMENTAL BELIEF I AM MY ROTHER'S KEEPER I AM MY THI TERS KEEPER THAT MAKES THIS OT REWORK AND THEN I START TO GET THIS FEELING OF RELIEF THAT HE'S DOING A GOOD JOB AND THEN WHEN HE JUST HIT A HOME RUN WITH IT TO NIGHT THERE IS NOT A LIBERAL AMERICA AND A CONSERVATIVE AMERICA THERE IS THE UNITED STATES OF AMERICA A A E MERI A AN A MY O MERIO A OINAL MERICO AT AT E OMERI O TA E I O FATE A AMERIC I S IN A BOY SOME DAY HE COULD BE PRESENT UNITED STATES HERE WE ARE TO DAT KOPHE THERE IS THIS HUGE AMOUNT OF HOPE THAT HE BRINGS TO THIS COUNTRY TO THE POLITICAL SYSTEM THAT IS INFECTIOUS AND WE CAUGHT IT THE WHOPE OF THE FINNY CAVE WIT E BUNNY NAME WHO BELIEVE THAT AMER  TE A RA TO O AN E TAITE A T TE O TI O AN E TAITE A O TIR E FA BE OTATIDYE A PO WO CONTINUALLY RISES TO THE OCCASION PEOPLE FEEL THAT WHEND HI DONE MHAT OF HIS TOLKIN OF FIFTEEN PEOPLE OR IF HES TALKING O SENEME TWO THOUSAND THEY ALL GET THEE FEELING THAT HE'S TALKING TO THEM\"]\n",
      "THE DAY OF THE SPEECH I COULDN'T EAT ALL DAY I WAS SO NERVOUS FOR HIM I WEN IT IT TO GO JUST PERFECTLY HE STARTS OFF AND I GET O TELL YOU IAM SWEAT AND I FEEL LIKE I'M IN A SANA I STAND HERE KNOWING THAT MY STORY IS PART OF THE LARGER AMERICAN STORY THAT I OWE ADEBT TO ALL OF THOSE WHO CAME BEFORE ME AND THAT NO OTHER COUNTRY ON EARTH IS MY STORY EVEN POSIBLIPEEPLE GET THIN TO ITAND SLOWLY BUT SURELY GOES FROM GOOD TO GREAT IT IS TAT UNDOMENTAL BELIEF I AM MY ROTHER'S KEEPER I AM MY THI TERS KEEPER THAT MAKES THIS OT REWORK AND THEN I START TO GET THIS FEELING OF RELIEF THAT HE'S DOING A GOOD JOB AND THEN WHEN HE JUST HIT A HOME RUN WITH IT TO NIGHT THERE IS NOT A LIBERAL AMERICA AND A CONSERVATIVE AMERICA THERE IS THE UNITED STATES OF AMERICA A A E MERI A AN A MY O MERIO A OINAL MERICO AT AT E OMERI O TA E I O FATE A AMERIC I S IN A BOY SOME DAY HE COULD BE PRESENT UNITED STATES HERE WE ARE TO DAT KOPHE THERE IS THIS HUGE AMOUNT OF HOPE THAT HE BRINGS TO THIS COUNTRY TO THE POLITICAL SYSTEM THAT IS INFECTIOUS AND WE CAUGHT IT THE WHOPE OF THE FINNY CAVE WIT E BUNNY NAME WHO BELIEVE THAT AMER  TE A RA TO O AN E TAITE A T TE O TI O AN E TAITE A O TIR E FA BE OTATIDYE A PO WO CONTINUALLY RISES TO THE OCCASION PEOPLE FEEL THAT WHEND HI DONE MHAT OF HIS TOLKIN OF FIFTEEN PEOPLE OR IF HES TALKING O SENEME TWO THOUSAND THEY ALL GET THEE FEELING THAT HE'S TALKING TO THEM\n"
     ]
    }
   ],
   "source": [
    "print(collection_of_text)\n",
    "final_complete_speech = \"\"\n",
    "\n",
    "# convert batch of text into one complete sentence\n",
    "for i in collection_of_text:\n",
    "    final_complete_speech += i\n",
    "\n",
    "print(final_complete_speech)"
   ]
  },
  {
   "cell_type": "code",
   "execution_count": null,
   "id": "453a769d",
   "metadata": {},
   "outputs": [],
   "source": []
  }
 ],
 "metadata": {
  "kernelspec": {
   "display_name": "Python 3 (ipykernel)",
   "language": "python",
   "name": "python3"
  },
  "language_info": {
   "codemirror_mode": {
    "name": "ipython",
    "version": 3
   },
   "file_extension": ".py",
   "mimetype": "text/x-python",
   "name": "python",
   "nbconvert_exporter": "python",
   "pygments_lexer": "ipython3",
   "version": "3.9.12"
  }
 },
 "nbformat": 4,
 "nbformat_minor": 5
}
